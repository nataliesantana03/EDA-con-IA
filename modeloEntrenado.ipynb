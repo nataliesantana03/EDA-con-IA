{
  "nbformat": 4,
  "nbformat_minor": 0,
  "metadata": {
    "colab": {
      "provenance": [],
      "authorship_tag": "ABX9TyOJJVR1LClFZqRn7nMKVGqn",
      "include_colab_link": true
    },
    "kernelspec": {
      "name": "python3",
      "display_name": "Python 3"
    },
    "language_info": {
      "name": "python"
    }
  },
  "cells": [
    {
      "cell_type": "markdown",
      "metadata": {
        "id": "view-in-github",
        "colab_type": "text"
      },
      "source": [
        "<a href=\"https://colab.research.google.com/github/nataliesantana03/EDA-con-IA/blob/main/modeloEntrenado.ipynb\" target=\"_parent\"><img src=\"https://colab.research.google.com/assets/colab-badge.svg\" alt=\"Open In Colab\"/></a>"
      ]
    },
    {
      "cell_type": "code",
      "source": [
        "import pandas as pd\n",
        "import pickle\n",
        "from sklearn.model_selection import train_test_split\n",
        "from sklearn.feature_extraction.text import TfidfVectorizer\n",
        "from sklearn.linear_model import LogisticRegression\n",
        "\n",
        "data = pd.read_csv('/training.1600000.processed.noemoticon.csv',\n",
        "                   encoding='latin-1',\n",
        "                   header=None,\n",
        "                   quotechar='\"')\n",
        "\n",
        "data.columns = ['sentiment', 'id', 'date', 'query', 'user', 'text']\n",
        "\n",
        "data = data.sample(20000, random_state=42)\n",
        "\n",
        "data = data[data['sentiment'].isin([0, 4])]\n",
        "data['sentiment'] = data['sentiment'].map({0: 0, 4: 1})\n",
        "\n",
        "X = data['text']\n",
        "y = data['sentiment']\n",
        "\n",
        "vectorizer = TfidfVectorizer(max_features=5000)\n",
        "X_vectorized = vectorizer.fit_transform(X)\n",
        "\n",
        "model = LogisticRegression()\n",
        "model.fit(X_vectorized, y)\n",
        "\n",
        "with open('model.pkl', 'wb') as f:\n",
        "    pickle.dump(model, f)\n",
        "\n",
        "with open('vectorizer.pkl', 'wb') as f:\n",
        "    pickle.dump(vectorizer, f)\n",
        "\n",
        "print(\"Modelo y vectorizador guardados exitosamente.\")\n"
      ],
      "metadata": {
        "colab": {
          "base_uri": "https://localhost:8080/"
        },
        "id": "Y3ntKkSI9pMC",
        "outputId": "43f5d56b-f1e4-4490-d0c8-f0e4a02e717c"
      },
      "execution_count": 6,
      "outputs": [
        {
          "output_type": "stream",
          "name": "stdout",
          "text": [
            "Modelo y vectorizador guardados exitosamente.\n"
          ]
        }
      ]
    }
  ]
}